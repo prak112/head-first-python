{
 "cells": [
  {
   "cell_type": "code",
   "execution_count": null,
   "id": "20d9fae3",
   "metadata": {},
   "outputs": [
    {
     "name": "stdout",
     "output_type": "stream",
     "text": [
      "6 of Spades\n",
      "King of Spades\n",
      "4 of Hearts\n",
      "8 of Diamonds\n",
      "8 of Spades\n"
     ]
    }
   ],
   "source": [
    "\"\"\"\n",
    "Example to understand what is going on with Python. \n",
    "Page 5.\n",
    "\"\"\"\n",
    "\n",
    "import random\n",
    "\n",
    "suits = [ \"Clubs\", \"Spades\", \"Diamonds\", \"Hearts\" ]\n",
    "faces = [ \"Jack\", \"King\", \"Queen\", \"Ace\" ]\n",
    "numbers = [ 2, 3, 4, 5, 6, 7, 8, 9, 10 ]\n",
    "\n",
    "def draw():\n",
    "  the_suit = random.choice(suits)\n",
    "  the_card = random.choice(faces + numbers)\n",
    "  return f\"{the_card} of {the_suit}\"\n",
    "\n",
    "# for _ in range(5):\n",
    "#   print(draw())\n",
    "# output -> repeated cards\n",
    "  # (7, 'of', 'Hearts')\n",
    "  # ('Ace', 'of', 'Clubs')\n",
    "  # (5, 'of', 'Spades')\n",
    "  # (5, 'of', 'Spades')\n",
    "  # (3, 'of', 'Clubs')\n",
    "\n",
    "# Alternate solution to nested for-loops for unique cards. Page 22.\n",
    "card_count = 5\n",
    "deck = set()\n",
    "while len(deck) != card_count:\n",
    "  deck.add(draw())\n",
    "\n",
    "for card in deck:\n",
    "  print(card)\n"
   ]
  },
  {
   "cell_type": "code",
   "execution_count": null,
   "id": "6fad0945",
   "metadata": {},
   "outputs": [],
   "source": [
    "# for BIF methods documentation\n",
    "# help(str.capitalize)"
   ]
  },
  {
   "cell_type": "code",
   "execution_count": 18,
   "id": "0a80cf21",
   "metadata": {},
   "outputs": [
    {
     "name": "stdout",
     "output_type": "stream",
     "text": [
      "Ace of Clubs\n",
      "6 of Spades\n",
      "King of Spades\n",
      "10 of Diamonds\n",
      "10 of Spades\n"
     ]
    }
   ],
   "source": [
    "# BOOK SOLUTON\n",
    "import random\n",
    "\n",
    "suits = [ \"Clubs\", \"Spades\", \"Diamonds\", \"Hearts\" ]\n",
    "faces = [ \"Jack\", \"King\", \"Queen\", \"Ace\" ]\n",
    "numbers = [ 2, 3, 4, 5, 6, 7, 8, 9, 10 ]\n",
    "deck = set()\n",
    "\n",
    "for suit in suits:\n",
    "  for card in faces + numbers:\n",
    "    deck.add(f\"{card} of {suit}\")\n",
    "\n",
    "def draw():\n",
    "  card = random.choice(list(deck))\n",
    "  deck.remove(card)\n",
    "  return card\n",
    "\n",
    "for _ in range(card_count):\n",
    "  print(draw())"
   ]
  },
  {
   "cell_type": "code",
   "execution_count": 20,
   "id": "ad489ca4",
   "metadata": {},
   "outputs": [
    {
     "name": "stdout",
     "output_type": "stream",
     "text": [
      "Card in Deck\n"
     ]
    }
   ],
   "source": [
    "card_to_search = (\"Ace of Hearts\")\n",
    "if card_to_search in deck:\n",
    "  print(\"Card in Deck\")\n",
    "else:\n",
    "  print(\"Card taken\")"
   ]
  },
  {
   "cell_type": "markdown",
   "id": "46f2da62",
   "metadata": {},
   "source": []
  },
  {
   "cell_type": "code",
   "execution_count": null,
   "id": "ab61105f",
   "metadata": {},
   "outputs": [],
   "source": [
    "'''\n",
    "Fun stuff from Python :)\n",
    "'''\n",
    "# import this\n",
    "# import antigravity"
   ]
  }
 ],
 "metadata": {
  "kernelspec": {
   "display_name": ".venv",
   "language": "python",
   "name": "python3"
  },
  "language_info": {
   "codemirror_mode": {
    "name": "ipython",
    "version": 3
   },
   "file_extension": ".py",
   "mimetype": "text/x-python",
   "name": "python",
   "nbconvert_exporter": "python",
   "pygments_lexer": "ipython3",
   "version": "3.11.9"
  }
 },
 "nbformat": 4,
 "nbformat_minor": 5
}
